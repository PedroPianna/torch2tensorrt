{
 "cells": [
  {
   "cell_type": "code",
   "execution_count": null,
   "id": "45d0cf88",
   "metadata": {},
   "outputs": [],
   "source": [
    "# Deployment application\n",
    "import torch\n",
    "import torch_tensorrt\n",
    "import torch.backends.cudnn as cudnn\n",
    "import time\n",
    "import numpy as np"
   ]
  },
  {
   "cell_type": "code",
   "execution_count": null,
   "id": "4c9beeb4",
   "metadata": {},
   "outputs": [],
   "source": [
    "model = torch.jit.load(\"tensorrt_module.ts\")\n",
    "input_data = torch.randn(1, 3, 224, 224)\n",
    "input_data = input_data.to(\"cuda\").float()\n",
    "result = model(input_data)"
   ]
  },
  {
   "cell_type": "code",
   "execution_count": null,
   "id": "f7025272",
   "metadata": {},
   "outputs": [],
   "source": [
    "cudnn.benchmark = True\n",
    "\n",
    "def benchmark(model, input_shape=(1024, 3, 512, 512), dtype='fp32', nwarmup=50, nruns=1000):\n",
    "    input_data = torch.randn(input_shape)\n",
    "    input_data = input_data.to(\"cuda\")\n",
    "    if dtype=='fp16':\n",
    "        input_data = input_data.half()\n",
    "        \n",
    "    print(\"Warm up ...\")\n",
    "    with torch.no_grad():\n",
    "        for _ in range(nwarmup):\n",
    "            features = model(input_data)\n",
    "    torch.cuda.synchronize()\n",
    "    print(\"Start timing ...\")\n",
    "    timings = []\n",
    "    with torch.no_grad():\n",
    "        for i in range(1, nruns+1):\n",
    "            start_time = time.time()\n",
    "            pred_loc  = model(input_data)\n",
    "            torch.cuda.synchronize()\n",
    "            end_time = time.time()\n",
    "            timings.append(end_time - start_time)\n",
    "            if i%10==0:\n",
    "                print('Iteration %d/%d, avg batch time %.2f ms'%(i, nruns, np.mean(timings)*1000))\n",
    "\n",
    "    print(\"Input shape:\", input_data.size())\n",
    "    print('Average throughput: %.2f images/second'%(input_shape[0]/np.mean(timings)))"
   ]
  },
  {
   "cell_type": "code",
   "execution_count": null,
   "id": "b9c73a2d",
   "metadata": {},
   "outputs": [],
   "source": [
    "model = model.eval().to(\"cuda\")\n",
    "benchmark(model, input_shape=(1, 3, 224, 224), nruns=100)"
   ]
  },
  {
   "cell_type": "code",
   "execution_count": null,
   "id": "f2330331",
   "metadata": {},
   "outputs": [],
   "source": [
    "results = model(torch.randn(1,3,224,224).float().to('cuda'))"
   ]
  }
 ],
 "metadata": {
  "kernelspec": {
   "display_name": "Python 3 (ipykernel)",
   "language": "python",
   "name": "python3"
  },
  "language_info": {
   "codemirror_mode": {
    "name": "ipython",
    "version": 3
   },
   "file_extension": ".py",
   "mimetype": "text/x-python",
   "name": "python",
   "nbconvert_exporter": "python",
   "pygments_lexer": "ipython3",
   "version": "3.8.12"
  }
 },
 "nbformat": 4,
 "nbformat_minor": 5
}
